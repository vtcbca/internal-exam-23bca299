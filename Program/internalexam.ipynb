{
 "cells": [
  {
   "cell_type": "markdown",
   "id": "230b2b82-477a-4fbf-8fd0-1891b3917c31",
   "metadata": {},
   "source": [
    "### 9. Create text file on python by taking input from user. Read Python.txt file and Print it in Reverse. "
   ]
  },
  {
   "cell_type": "code",
   "execution_count": 1,
   "id": "70d0658c-7b64-4217-a16b-97270c4b5890",
   "metadata": {},
   "outputs": [],
   "source": [
    "f=open(\"D:\\\\23BCA299\\\\data\\\\python.txt\",\"w\")"
   ]
  },
  {
   "cell_type": "code",
   "execution_count": 2,
   "id": "770f0b05-9a70-4979-84a3-fdf6fec6810d",
   "metadata": {},
   "outputs": [],
   "source": [
    "l=[]"
   ]
  },
  {
   "cell_type": "code",
   "execution_count": 9,
   "id": "19424abd-8dda-4f83-a2e6-b30fbaa50dd4",
   "metadata": {},
   "outputs": [
    {
     "name": "stdin",
     "output_type": "stream",
     "text": [
      "enter sentences in python: python is a programing language.\n",
      "enter sentences in python: python is a object-oriented programing.\n",
      "enter sentences in python: Python was created in 1980s by Guido van Rossum.\n",
      "enter sentences in python: it is a open source.\n",
      "enter sentences in python: it is Easy to learn, read, and understand.\n"
     ]
    }
   ],
   "source": [
    "for i in range(5):\n",
    "    l=input(\"enter sentences in python:\")"
   ]
  },
  {
   "cell_type": "code",
   "execution_count": 13,
   "id": "6d93d500-db5e-4f00-a331-df1c8ac33838",
   "metadata": {},
   "outputs": [],
   "source": [
    "f.close()"
   ]
  },
  {
   "cell_type": "code",
   "execution_count": 14,
   "id": "558211ce-1c5a-49db-a548-8cb3d58f0957",
   "metadata": {},
   "outputs": [],
   "source": [
    "f=open(\"D:\\\\23BCA299\\\\data\\\\python.txt\",\"r\")"
   ]
  },
  {
   "cell_type": "code",
   "execution_count": 21,
   "id": "52005e98-fe1c-4b0b-98ab-1ea26ac3ec3a",
   "metadata": {},
   "outputs": [],
   "source": []
  },
  {
   "cell_type": "code",
   "execution_count": null,
   "id": "73162b23-b742-4bb5-b99e-1e746617b17d",
   "metadata": {},
   "outputs": [],
   "source": []
  }
 ],
 "metadata": {
  "kernelspec": {
   "display_name": "Python 3 (ipykernel)",
   "language": "python",
   "name": "python3"
  },
  "language_info": {
   "codemirror_mode": {
    "name": "ipython",
    "version": 3
   },
   "file_extension": ".py",
   "mimetype": "text/x-python",
   "name": "python",
   "nbconvert_exporter": "python",
   "pygments_lexer": "ipython3",
   "version": "3.9.6"
  }
 },
 "nbformat": 4,
 "nbformat_minor": 5
}
