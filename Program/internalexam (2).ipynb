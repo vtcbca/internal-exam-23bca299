{
 "cells": [
  {
   "cell_type": "markdown",
   "id": "230b2b82-477a-4fbf-8fd0-1891b3917c31",
   "metadata": {},
   "source": [
    "### 9. Create text file on python by taking input from user. Read Python.txt file and Print it in Reverse. "
   ]
  },
  {
   "cell_type": "code",
   "execution_count": 4,
   "id": "70d0658c-7b64-4217-a16b-97270c4b5890",
   "metadata": {},
   "outputs": [],
   "source": [
    "f=open(\"D:\\\\23BCA299\\\\data\\\\python.txt\",\"w\")"
   ]
  },
  {
   "cell_type": "code",
   "execution_count": 5,
   "id": "73162b23-b742-4bb5-b99e-1e746617b17d",
   "metadata": {},
   "outputs": [],
   "source": [
    "line=[]"
   ]
  },
  {
   "cell_type": "code",
   "execution_count": 6,
   "id": "61ada441-0423-4fcd-815a-89e79be9ab6f",
   "metadata": {},
   "outputs": [
    {
     "name": "stdin",
     "output_type": "stream",
     "text": [
      " python is a programming language\n",
      " python is an interprited language\n",
      " python is very easy language\n",
      " python is a object-oriented language\n",
      " \n"
     ]
    }
   ],
   "source": [
    "while True:\n",
    "    l=input()\n",
    "    if l:\n",
    "        line.append(l+\"\\n\")\n",
    "    else:\n",
    "        break\n",
    "text=\"\\n\".join(line)"
   ]
  },
  {
   "cell_type": "code",
   "execution_count": 7,
   "id": "b61d7d66-ce79-4fd0-aeb6-e8d9f24e59c0",
   "metadata": {},
   "outputs": [
    {
     "data": {
      "text/plain": [
       "136"
      ]
     },
     "execution_count": 7,
     "metadata": {},
     "output_type": "execute_result"
    }
   ],
   "source": [
    "f.write(text)\n"
   ]
  },
  {
   "cell_type": "code",
   "execution_count": 8,
   "id": "e2bca97d-ea5c-48bb-a155-3089435403ae",
   "metadata": {},
   "outputs": [],
   "source": [
    "f.close()"
   ]
  },
  {
   "cell_type": "code",
   "execution_count": 9,
   "id": "b5c8e5aa-5126-4c15-8414-a54b5a442747",
   "metadata": {},
   "outputs": [],
   "source": [
    "f=open(\"D:\\\\23BCA299\\\\data\\\\python.txt\",\"r\")"
   ]
  },
  {
   "cell_type": "code",
   "execution_count": 10,
   "id": "35b0e692-242e-4317-a8ab-66416cefa46f",
   "metadata": {},
   "outputs": [],
   "source": [
    "file_content=f.read()"
   ]
  },
  {
   "cell_type": "code",
   "execution_count": 11,
   "id": "2c2c1fd2-698a-45fe-b377-10a9e4a7ef5a",
   "metadata": {},
   "outputs": [],
   "source": [
    "f.close()"
   ]
  },
  {
   "cell_type": "code",
   "execution_count": 12,
   "id": "596d12ef-df57-4c31-8b01-60403963501c",
   "metadata": {},
   "outputs": [
    {
     "name": "stdout",
     "output_type": "stream",
     "text": [
      "\n",
      "egaugnal detneiro-tcejbo a si nohtyp\n",
      "\n",
      "egaugnal ysae yrev si nohtyp\n",
      "\n",
      "egaugnal detirpretni na si nohtyp\n",
      "\n",
      "egaugnal gnimmargorp a si nohtyp\n"
     ]
    }
   ],
   "source": [
    "reversed_content=file_content[::-1]\n",
    "print(reversed_content)"
   ]
  },
  {
   "cell_type": "code",
   "execution_count": null,
   "id": "bf5acd00-6259-4314-ab5d-7dbe0883aa39",
   "metadata": {},
   "outputs": [],
   "source": []
  }
 ],
 "metadata": {
  "kernelspec": {
   "display_name": "Python 3 (ipykernel)",
   "language": "python",
   "name": "python3"
  },
  "language_info": {
   "codemirror_mode": {
    "name": "ipython",
    "version": 3
   },
   "file_extension": ".py",
   "mimetype": "text/x-python",
   "name": "python",
   "nbconvert_exporter": "python",
   "pygments_lexer": "ipython3",
   "version": "3.9.6"
  }
 },
 "nbformat": 4,
 "nbformat_minor": 5
}
